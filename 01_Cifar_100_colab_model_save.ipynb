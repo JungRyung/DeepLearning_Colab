{
  "nbformat": 4,
  "nbformat_minor": 0,
  "metadata": {
    "colab": {
      "name": "01_Cifar-100_colab_model_save.ipynb",
      "provenance": [],
      "collapsed_sections": [],
      "authorship_tag": "ABX9TyPuXH3tTXYDmo8sf3Y/P+Kh",
      "include_colab_link": true
    },
    "kernelspec": {
      "name": "python3",
      "display_name": "Python 3"
    },
    "accelerator": "GPU"
  },
  "cells": [
    {
      "cell_type": "markdown",
      "metadata": {
        "id": "view-in-github",
        "colab_type": "text"
      },
      "source": [
        "<a href=\"https://colab.research.google.com/github/JungRyung/DeepLearning_Colab/blob/master/01_Cifar_100_colab_model_save.ipynb\" target=\"_parent\"><img src=\"https://colab.research.google.com/assets/colab-badge.svg\" alt=\"Open In Colab\"/></a>"
      ]
    },
    {
      "cell_type": "markdown",
      "metadata": {
        "id": "cbzu6b--p3fy",
        "colab_type": "text"
      },
      "source": [
        "# Cifar-100\n"
      ]
    },
    {
      "cell_type": "code",
      "metadata": {
        "id": "E2MjKmu9sAaW",
        "colab_type": "code",
        "colab": {}
      },
      "source": [
        "!mkdir model"
      ],
      "execution_count": 1,
      "outputs": []
    },
    {
      "cell_type": "code",
      "metadata": {
        "id": "rKMRE-Mqw-04",
        "colab_type": "code",
        "colab": {
          "base_uri": "https://localhost:8080/",
          "height": 34
        },
        "outputId": "885ffae4-19cc-4b75-cdf6-9c57813bd74a"
      },
      "source": [
        "!ls"
      ],
      "execution_count": 2,
      "outputs": [
        {
          "output_type": "stream",
          "text": [
            "model  sample_data\n"
          ],
          "name": "stdout"
        }
      ]
    },
    {
      "cell_type": "code",
      "metadata": {
        "id": "8nxf8357p1fF",
        "colab_type": "code",
        "colab": {
          "base_uri": "https://localhost:8080/",
          "height": 34
        },
        "outputId": "bab72d77-50c9-4028-f74e-320cd1f86e05"
      },
      "source": [
        "%tensorflow_version 2.x\n",
        "import tensorflow as tf\n",
        "device_name = tf.test.gpu_device_name()\n",
        "if device_name != '/device:GPU:0':\n",
        "  raise SystemError('GPU device not found')\n",
        "print('Found GPU at: {}'.format(device_name))"
      ],
      "execution_count": 3,
      "outputs": [
        {
          "output_type": "stream",
          "text": [
            "Found GPU at: /device:GPU:0\n"
          ],
          "name": "stdout"
        }
      ]
    },
    {
      "cell_type": "code",
      "metadata": {
        "id": "h1Mm9Tp1puSl",
        "colab_type": "code",
        "colab": {
          "base_uri": "https://localhost:8080/",
          "height": 51
        },
        "outputId": "b69ea4a1-fe42-4a99-ae05-6e2b1456648f"
      },
      "source": [
        "import tensorflow as tf\n",
        "from tensorflow.keras.datasets import cifar100\n",
        "(X_train, y_train), (X_test, y_test) = cifar100.load_data(label_mode='fine')"
      ],
      "execution_count": 4,
      "outputs": [
        {
          "output_type": "stream",
          "text": [
            "Downloading data from https://www.cs.toronto.edu/~kriz/cifar-100-python.tar.gz\n",
            "169009152/169001437 [==============================] - 11s 0us/step\n"
          ],
          "name": "stdout"
        }
      ]
    },
    {
      "cell_type": "code",
      "metadata": {
        "id": "G4B3Ef8oqOWS",
        "colab_type": "code",
        "colab": {
          "base_uri": "https://localhost:8080/",
          "height": 34
        },
        "outputId": "c1f593f7-2ddd-460d-82f5-e371be092665"
      },
      "source": [
        "X_train.shape, X_test.shape"
      ],
      "execution_count": 5,
      "outputs": [
        {
          "output_type": "execute_result",
          "data": {
            "text/plain": [
              "((50000, 32, 32, 3), (10000, 32, 32, 3))"
            ]
          },
          "metadata": {
            "tags": []
          },
          "execution_count": 5
        }
      ]
    },
    {
      "cell_type": "code",
      "metadata": {
        "id": "5bocpxcxqQab",
        "colab_type": "code",
        "colab": {
          "base_uri": "https://localhost:8080/",
          "height": 187
        },
        "outputId": "97796498-14be-41ec-b927-478e58049e61"
      },
      "source": [
        "y_train[:10]"
      ],
      "execution_count": 6,
      "outputs": [
        {
          "output_type": "execute_result",
          "data": {
            "text/plain": [
              "array([[19],\n",
              "       [29],\n",
              "       [ 0],\n",
              "       [11],\n",
              "       [ 1],\n",
              "       [86],\n",
              "       [90],\n",
              "       [28],\n",
              "       [23],\n",
              "       [31]])"
            ]
          },
          "metadata": {
            "tags": []
          },
          "execution_count": 6
        }
      ]
    },
    {
      "cell_type": "markdown",
      "metadata": {
        "id": "Zmp7dGV-qY84",
        "colab_type": "text"
      },
      "source": [
        "### 데이터 확인"
      ]
    },
    {
      "cell_type": "code",
      "metadata": {
        "id": "LGiSvyBuqR_K",
        "colab_type": "code",
        "colab": {
          "base_uri": "https://localhost:8080/",
          "height": 124
        },
        "outputId": "d689e081-9732-40f1-bf47-32298bae14fc"
      },
      "source": [
        "import matplotlib as mpl\n",
        "import matplotlib.pyplot as plt\n",
        "%matplotlib inline\n",
        "\n",
        "plt.subplot(141)\n",
        "plt.imshow(X_train[0], interpolation=\"bicubic\")\n",
        "plt.grid(False)\n",
        "plt.subplot(142)\n",
        "plt.imshow(X_train[4], interpolation=\"bicubic\")\n",
        "plt.grid(False)\n",
        "plt.subplot(143)\n",
        "plt.imshow(X_train[8], interpolation=\"bicubic\")\n",
        "plt.grid(False)\n",
        "plt.subplot(144)\n",
        "plt.imshow(X_train[12], interpolation=\"bicubic\")\n",
        "plt.grid(False)\n",
        "plt.show()"
      ],
      "execution_count": 7,
      "outputs": [
        {
          "output_type": "display_data",
          "data": {
            "image/png": "[encoded data removed]",
            "text/plain": [
              "<Figure size 432x288 with 4 Axes>"
            ]
          },
          "metadata": {
            "tags": [],
            "needs_background": "light"
          }
        }
      ]
    },
    {
      "cell_type": "code",
      "metadata": {
        "id": "ydVAKySfqWi1",
        "colab_type": "code",
        "colab": {
          "base_uri": "https://localhost:8080/",
          "height": 34
        },
        "outputId": "48b92945-da59-47d8-db22-ea0a6c4465a1"
      },
      "source": [
        "y_train[0], y_train[4], y_train[8], y_train[12]"
      ],
      "execution_count": 8,
      "outputs": [
        {
          "output_type": "execute_result",
          "data": {
            "text/plain": [
              "(array([19]), array([1]), array([23]), array([82]))"
            ]
          },
          "metadata": {
            "tags": []
          },
          "execution_count": 8
        }
      ]
    },
    {
      "cell_type": "markdown",
      "metadata": {
        "id": "fW5SrccRqiOA",
        "colab_type": "text"
      },
      "source": [
        "#### 자료형 변환 및 스케일링\n",
        "- X: 실수형으로 정규화\n",
        "- Y: 1-hot encoding"
      ]
    },
    {
      "cell_type": "code",
      "metadata": {
        "id": "bKa5jwchqexF",
        "colab_type": "code",
        "colab": {
          "base_uri": "https://localhost:8080/",
          "height": 34
        },
        "outputId": "7d219c2d-b0e7-474a-b213-227dc620ee23"
      },
      "source": [
        "X_train = X_train.astype('float32')/255.0\n",
        "X_test = X_test.astype('float32')/255.0\n",
        "\n",
        "print(X_train.shape, X_train.dtype)"
      ],
      "execution_count": 9,
      "outputs": [
        {
          "output_type": "stream",
          "text": [
            "(50000, 32, 32, 3) float32\n"
          ],
          "name": "stdout"
        }
      ]
    },
    {
      "cell_type": "code",
      "metadata": {
        "id": "Z_c_GcZ8qooH",
        "colab_type": "code",
        "colab": {
          "base_uri": "https://localhost:8080/",
          "height": 136
        },
        "outputId": "3401e2ad-107e-475e-b91e-9bc1e6e52e0c"
      },
      "source": [
        "Y_train = tf.keras.utils.to_categorical(y_train, 100)\n",
        "Y_test = tf.keras.utils.to_categorical(y_test, 100)\n",
        "Y_train[0]"
      ],
      "execution_count": 10,
      "outputs": [
        {
          "output_type": "execute_result",
          "data": {
            "text/plain": [
              "array([0., 0., 0., 0., 0., 0., 0., 0., 0., 0., 0., 0., 0., 0., 0., 0., 0.,\n",
              "       0., 0., 1., 0., 0., 0., 0., 0., 0., 0., 0., 0., 0., 0., 0., 0., 0.,\n",
              "       0., 0., 0., 0., 0., 0., 0., 0., 0., 0., 0., 0., 0., 0., 0., 0., 0.,\n",
              "       0., 0., 0., 0., 0., 0., 0., 0., 0., 0., 0., 0., 0., 0., 0., 0., 0.,\n",
              "       0., 0., 0., 0., 0., 0., 0., 0., 0., 0., 0., 0., 0., 0., 0., 0., 0.,\n",
              "       0., 0., 0., 0., 0., 0., 0., 0., 0., 0., 0., 0., 0., 0., 0.],\n",
              "      dtype=float32)"
            ]
          },
          "metadata": {
            "tags": []
          },
          "execution_count": 10
        }
      ]
    },
    {
      "cell_type": "markdown",
      "metadata": {
        "id": "OOfDQYjpqsEo",
        "colab_type": "text"
      },
      "source": [
        "#### 모형 구현"
      ]
    },
    {
      "cell_type": "code",
      "metadata": {
        "id": "zOALdJCoqqAf",
        "colab_type": "code",
        "colab": {}
      },
      "source": [
        "from tensorflow.keras.models import Sequential\n",
        "from tensorflow.keras.layers import Conv2D, MaxPooling2D, Flatten, Dense, Dropout\n",
        "from tensorflow.keras.layers import Activation\n",
        "import numpy as np\n",
        "\n",
        "np.random.seed(0)"
      ],
      "execution_count": 11,
      "outputs": []
    },
    {
      "cell_type": "code",
      "metadata": {
        "id": "23qv1U8OqrfT",
        "colab_type": "code",
        "colab": {
          "base_uri": "https://localhost:8080/",
          "height": 799
        },
        "outputId": "025eca1d-5572-425c-fa27-3308cd15d6e1"
      },
      "source": [
        "model = Sequential()\n",
        "\n",
        "# Input Layer\n",
        "model.add(Conv2D(32, (3,3), padding='same', input_shape = X_train.shape[1:]))\n",
        "model.add(Activation('relu'))\n",
        "# MAXPOOL Layer 1\n",
        "model.add(MaxPooling2D(pool_size=(2, 2)))\n",
        "model.add(Activation('relu'))\n",
        "# CONV2D Layer 2\n",
        "model.add(Conv2D(64, (3,3), padding='same'))\n",
        "model.add(Activation('relu'))\n",
        "# MAXPOOL Layer 2\n",
        "model.add(MaxPooling2D(pool_size=(2, 2)))\n",
        "model.add(Activation('relu'))\n",
        "# Add a dropout of 10%\n",
        "model.add(Dropout(0.1))\n",
        "# CONV2D Layer 3\n",
        "model.add(Conv2D(128, (3,3), padding='same'))\n",
        "model.add(Activation('relu'))\n",
        "# MAXPOOL Layer 3\n",
        "model.add(MaxPooling2D(pool_size=(2,2)))\n",
        "# Add dropout of 25%\n",
        "model.add(Dropout(0.25))\n",
        "# flatten \n",
        "model.add(Flatten())\n",
        "# Fully Connected Layer 1\n",
        "model.add(Dense(512))\n",
        "model.add(Activation('relu'))\n",
        "# Adding a dropout of 50%\n",
        "model.add(Dropout(0.5))\n",
        "# Output Layer (Fully Connected Layer 2) \n",
        "model.add(Dense(100))\n",
        "model.add(Activation('softmax'))\n",
        "          \n",
        "model.summary()"
      ],
      "execution_count": 12,
      "outputs": [
        {
          "output_type": "stream",
          "text": [
            "Model: \"sequential\"\n",
            "_________________________________________________________________\n",
            "Layer (type)                 Output Shape              Param #   \n",
            "=================================================================\n",
            "conv2d (Conv2D)              (None, 32, 32, 32)        896       \n",
            "_________________________________________________________________\n",
            "activation (Activation)      (None, 32, 32, 32)        0         \n",
            "_________________________________________________________________\n",
            "max_pooling2d (MaxPooling2D) (None, 16, 16, 32)        0         \n",
            "_________________________________________________________________\n",
            "activation_1 (Activation)    (None, 16, 16, 32)        0         \n",
            "_________________________________________________________________\n",
            "conv2d_1 (Conv2D)            (None, 16, 16, 64)        18496     \n",
            "_________________________________________________________________\n",
            "activation_2 (Activation)    (None, 16, 16, 64)        0         \n",
            "_________________________________________________________________\n",
            "max_pooling2d_1 (MaxPooling2 (None, 8, 8, 64)          0         \n",
            "_________________________________________________________________\n",
            "activation_3 (Activation)    (None, 8, 8, 64)          0         \n",
            "_________________________________________________________________\n",
            "dropout (Dropout)            (None, 8, 8, 64)          0         \n",
            "_________________________________________________________________\n",
            "conv2d_2 (Conv2D)            (None, 8, 8, 128)         73856     \n",
            "_________________________________________________________________\n",
            "activation_4 (Activation)    (None, 8, 8, 128)         0         \n",
            "_________________________________________________________________\n",
            "max_pooling2d_2 (MaxPooling2 (None, 4, 4, 128)         0         \n",
            "_________________________________________________________________\n",
            "dropout_1 (Dropout)          (None, 4, 4, 128)         0         \n",
            "_________________________________________________________________\n",
            "flatten (Flatten)            (None, 2048)              0         \n",
            "_________________________________________________________________\n",
            "dense (Dense)                (None, 512)               1049088   \n",
            "_________________________________________________________________\n",
            "activation_5 (Activation)    (None, 512)               0         \n",
            "_________________________________________________________________\n",
            "dropout_2 (Dropout)          (None, 512)               0         \n",
            "_________________________________________________________________\n",
            "dense_1 (Dense)              (None, 100)               51300     \n",
            "_________________________________________________________________\n",
            "activation_6 (Activation)    (None, 100)               0         \n",
            "=================================================================\n",
            "Total params: 1,193,636\n",
            "Trainable params: 1,193,636\n",
            "Non-trainable params: 0\n",
            "_________________________________________________________________\n"
          ],
          "name": "stdout"
        }
      ]
    },
    {
      "cell_type": "code",
      "metadata": {
        "id": "rzYBDhBnqwcJ",
        "colab_type": "code",
        "colab": {}
      },
      "source": [
        "opt = tf.keras.optimizers.Adam(lr=0.0001)\n",
        "model.compile(loss='categorical_crossentropy', optimizer=opt, metrics=['accuracy'])"
      ],
      "execution_count": 13,
      "outputs": []
    },
    {
      "cell_type": "code",
      "metadata": {
        "id": "RV0RfSRCxJRs",
        "colab_type": "code",
        "colab": {}
      },
      "source": [
        "## to save checkpoint to use later\n",
        "from tensorflow.keras.callbacks import ModelCheckpoint, EarlyStopping\n",
        "\n",
        "modelpath = \"model/Cifar-100-best.hdf5\"\n",
        "checkpointer = ModelCheckpoint(filepath=modelpath, monitor='val_loss', \n",
        "                               verbose=1, save_best_only=True)\n",
        "early_stopping_callback = EarlyStopping(monitor='val_loss', patience=20)"
      ],
      "execution_count": 16,
      "outputs": []
    },
    {
      "cell_type": "code",
      "metadata": {
        "id": "kFBHHeo-qytj",
        "colab_type": "code",
        "colab": {
          "base_uri": "https://localhost:8080/",
          "height": 1000
        },
        "outputId": "86d9b2b6-1ef3-45fb-863d-cb12eb2a5162"
      },
      "source": [
        "history = model.fit(X_train, Y_train, epochs=300, batch_size=50, \n",
        "                    callbacks=[checkpointer, early_stopping_callback],\n",
        "                    validation_data=(X_test, Y_test), verbose=1)"
      ],
      "execution_count": 18,
      "outputs": [
        {
          "output_type": "stream",
          "text": [
            "Epoch 1/300\n",
            "1000/1000 [==============================] - ETA: 0s - loss: 3.0815 - accuracy: 0.2460\n",
            "Epoch 00001: val_loss improved from inf to 2.90923, saving model to model/Cifar-100-best.hdf5\n",
            "1000/1000 [==============================] - 12s 12ms/step - loss: 3.0815 - accuracy: 0.2460 - val_loss: 2.9092 - val_accuracy: 0.2968\n",
            "Epoch 2/300\n",
            " 996/1000 [============================>.] - ETA: 0s - loss: 3.0049 - accuracy: 0.2607\n",
            "Epoch 00002: val_loss improved from 2.90923 to 2.82775, saving model to model/Cifar-100-best.hdf5\n",
            "1000/1000 [==============================] - 12s 12ms/step - loss: 3.0056 - accuracy: 0.2608 - val_loss: 2.8277 - val_accuracy: 0.3109\n",
            "Epoch 3/300\n",
            " 999/1000 [============================>.] - ETA: 0s - loss: 2.9395 - accuracy: 0.2732\n",
            "Epoch 00003: val_loss improved from 2.82775 to 2.77372, saving model to model/Cifar-100-best.hdf5\n",
            "1000/1000 [==============================] - 12s 12ms/step - loss: 2.9395 - accuracy: 0.2733 - val_loss: 2.7737 - val_accuracy: 0.3184\n",
            "Epoch 4/300\n",
            " 996/1000 [============================>.] - ETA: 0s - loss: 2.8742 - accuracy: 0.2877\n",
            "Epoch 00004: val_loss improved from 2.77372 to 2.75459, saving model to model/Cifar-100-best.hdf5\n",
            "1000/1000 [==============================] - 12s 12ms/step - loss: 2.8745 - accuracy: 0.2876 - val_loss: 2.7546 - val_accuracy: 0.3242\n",
            "Epoch 5/300\n",
            "1000/1000 [==============================] - ETA: 0s - loss: 2.8191 - accuracy: 0.2969\n",
            "Epoch 00005: val_loss improved from 2.75459 to 2.69217, saving model to model/Cifar-100-best.hdf5\n",
            "1000/1000 [==============================] - 12s 12ms/step - loss: 2.8191 - accuracy: 0.2969 - val_loss: 2.6922 - val_accuracy: 0.3384\n",
            "Epoch 6/300\n",
            " 998/1000 [============================>.] - ETA: 0s - loss: 2.7628 - accuracy: 0.3101\n",
            "Epoch 00006: val_loss improved from 2.69217 to 2.63935, saving model to model/Cifar-100-best.hdf5\n",
            "1000/1000 [==============================] - 12s 12ms/step - loss: 2.7631 - accuracy: 0.3100 - val_loss: 2.6394 - val_accuracy: 0.3493\n",
            "Epoch 7/300\n",
            " 999/1000 [============================>.] - ETA: 0s - loss: 2.7090 - accuracy: 0.3209\n",
            "Epoch 00007: val_loss improved from 2.63935 to 2.60048, saving model to model/Cifar-100-best.hdf5\n",
            "1000/1000 [==============================] - 12s 12ms/step - loss: 2.7093 - accuracy: 0.3209 - val_loss: 2.6005 - val_accuracy: 0.3578\n",
            "Epoch 8/300\n",
            " 998/1000 [============================>.] - ETA: 0s - loss: 2.6686 - accuracy: 0.3255\n",
            "Epoch 00008: val_loss improved from 2.60048 to 2.56153, saving model to model/Cifar-100-best.hdf5\n",
            "1000/1000 [==============================] - 12s 12ms/step - loss: 2.6689 - accuracy: 0.3255 - val_loss: 2.5615 - val_accuracy: 0.3647\n",
            "Epoch 9/300\n",
            " 996/1000 [============================>.] - ETA: 0s - loss: 2.6305 - accuracy: 0.3355\n",
            "Epoch 00009: val_loss improved from 2.56153 to 2.52154, saving model to model/Cifar-100-best.hdf5\n",
            "1000/1000 [==============================] - 12s 12ms/step - loss: 2.6302 - accuracy: 0.3355 - val_loss: 2.5215 - val_accuracy: 0.3692\n",
            "Epoch 10/300\n",
            " 999/1000 [============================>.] - ETA: 0s - loss: 2.5850 - accuracy: 0.3440\n",
            "Epoch 00010: val_loss improved from 2.52154 to 2.50877, saving model to model/Cifar-100-best.hdf5\n",
            "1000/1000 [==============================] - 12s 12ms/step - loss: 2.5855 - accuracy: 0.3439 - val_loss: 2.5088 - val_accuracy: 0.3768\n",
            "Epoch 11/300\n",
            " 996/1000 [============================>.] - ETA: 0s - loss: 2.5497 - accuracy: 0.3519\n",
            "Epoch 00011: val_loss improved from 2.50877 to 2.45498, saving model to model/Cifar-100-best.hdf5\n",
            "1000/1000 [==============================] - 12s 12ms/step - loss: 2.5503 - accuracy: 0.3518 - val_loss: 2.4550 - val_accuracy: 0.3826\n",
            "Epoch 12/300\n",
            " 998/1000 [============================>.] - ETA: 0s - loss: 2.5051 - accuracy: 0.3605\n",
            "Epoch 00012: val_loss improved from 2.45498 to 2.43981, saving model to model/Cifar-100-best.hdf5\n",
            "1000/1000 [==============================] - 12s 12ms/step - loss: 2.5059 - accuracy: 0.3604 - val_loss: 2.4398 - val_accuracy: 0.3917\n",
            "Epoch 13/300\n",
            " 996/1000 [============================>.] - ETA: 0s - loss: 2.4675 - accuracy: 0.3689\n",
            "Epoch 00013: val_loss improved from 2.43981 to 2.40466, saving model to model/Cifar-100-best.hdf5\n",
            "1000/1000 [==============================] - 12s 12ms/step - loss: 2.4673 - accuracy: 0.3689 - val_loss: 2.4047 - val_accuracy: 0.3936\n",
            "Epoch 14/300\n",
            " 999/1000 [============================>.] - ETA: 0s - loss: 2.4335 - accuracy: 0.3753\n",
            "Epoch 00014: val_loss improved from 2.40466 to 2.38375, saving model to model/Cifar-100-best.hdf5\n",
            "1000/1000 [==============================] - 12s 12ms/step - loss: 2.4335 - accuracy: 0.3754 - val_loss: 2.3838 - val_accuracy: 0.3967\n",
            "Epoch 15/300\n",
            " 996/1000 [============================>.] - ETA: 0s - loss: 2.4059 - accuracy: 0.3808\n",
            "Epoch 00015: val_loss improved from 2.38375 to 2.35308, saving model to model/Cifar-100-best.hdf5\n",
            "1000/1000 [==============================] - 12s 12ms/step - loss: 2.4061 - accuracy: 0.3808 - val_loss: 2.3531 - val_accuracy: 0.4006\n",
            "Epoch 16/300\n",
            " 997/1000 [============================>.] - ETA: 0s - loss: 2.3682 - accuracy: 0.3897\n",
            "Epoch 00016: val_loss improved from 2.35308 to 2.34117, saving model to model/Cifar-100-best.hdf5\n",
            "1000/1000 [==============================] - 12s 12ms/step - loss: 2.3685 - accuracy: 0.3899 - val_loss: 2.3412 - val_accuracy: 0.4059\n",
            "Epoch 17/300\n",
            " 996/1000 [============================>.] - ETA: 0s - loss: 2.3343 - accuracy: 0.3971\n",
            "Epoch 00017: val_loss improved from 2.34117 to 2.31899, saving model to model/Cifar-100-best.hdf5\n",
            "1000/1000 [==============================] - 12s 12ms/step - loss: 2.3350 - accuracy: 0.3969 - val_loss: 2.3190 - val_accuracy: 0.4122\n",
            "Epoch 18/300\n",
            " 996/1000 [============================>.] - ETA: 0s - loss: 2.3094 - accuracy: 0.4028\n",
            "Epoch 00018: val_loss improved from 2.31899 to 2.30344, saving model to model/Cifar-100-best.hdf5\n",
            "1000/1000 [==============================] - 12s 12ms/step - loss: 2.3097 - accuracy: 0.4028 - val_loss: 2.3034 - val_accuracy: 0.4144\n",
            "Epoch 19/300\n",
            "1000/1000 [==============================] - ETA: 0s - loss: 2.2801 - accuracy: 0.4080\n",
            "Epoch 00019: val_loss improved from 2.30344 to 2.29686, saving model to model/Cifar-100-best.hdf5\n",
            "1000/1000 [==============================] - 12s 12ms/step - loss: 2.2801 - accuracy: 0.4080 - val_loss: 2.2969 - val_accuracy: 0.4166\n",
            "Epoch 20/300\n",
            " 996/1000 [============================>.] - ETA: 0s - loss: 2.2491 - accuracy: 0.4143\n",
            "Epoch 00020: val_loss improved from 2.29686 to 2.27467, saving model to model/Cifar-100-best.hdf5\n",
            "1000/1000 [==============================] - 11s 11ms/step - loss: 2.2488 - accuracy: 0.4143 - val_loss: 2.2747 - val_accuracy: 0.4177\n",
            "Epoch 21/300\n",
            " 996/1000 [============================>.] - ETA: 0s - loss: 2.2224 - accuracy: 0.4173\n",
            "Epoch 00021: val_loss improved from 2.27467 to 2.25826, saving model to model/Cifar-100-best.hdf5\n",
            "1000/1000 [==============================] - 12s 12ms/step - loss: 2.2217 - accuracy: 0.4175 - val_loss: 2.2583 - val_accuracy: 0.4234\n",
            "Epoch 22/300\n",
            "1000/1000 [==============================] - ETA: 0s - loss: 2.1915 - accuracy: 0.4255\n",
            "Epoch 00022: val_loss improved from 2.25826 to 2.24800, saving model to model/Cifar-100-best.hdf5\n",
            "1000/1000 [==============================] - 12s 12ms/step - loss: 2.1915 - accuracy: 0.4255 - val_loss: 2.2480 - val_accuracy: 0.4234\n",
            "Epoch 23/300\n",
            " 997/1000 [============================>.] - ETA: 0s - loss: 2.1644 - accuracy: 0.4299\n",
            "Epoch 00023: val_loss improved from 2.24800 to 2.22541, saving model to model/Cifar-100-best.hdf5\n",
            "1000/1000 [==============================] - 12s 12ms/step - loss: 2.1645 - accuracy: 0.4299 - val_loss: 2.2254 - val_accuracy: 0.4293\n",
            "Epoch 24/300\n",
            "1000/1000 [==============================] - ETA: 0s - loss: 2.1447 - accuracy: 0.4352\n",
            "Epoch 00024: val_loss improved from 2.22541 to 2.20175, saving model to model/Cifar-100-best.hdf5\n",
            "1000/1000 [==============================] - 12s 12ms/step - loss: 2.1447 - accuracy: 0.4352 - val_loss: 2.2017 - val_accuracy: 0.4344\n",
            "Epoch 25/300\n",
            " 999/1000 [============================>.] - ETA: 0s - loss: 2.1192 - accuracy: 0.4405\n",
            "Epoch 00025: val_loss improved from 2.20175 to 2.19047, saving model to model/Cifar-100-best.hdf5\n",
            "1000/1000 [==============================] - 12s 12ms/step - loss: 2.1192 - accuracy: 0.4405 - val_loss: 2.1905 - val_accuracy: 0.4377\n",
            "Epoch 26/300\n",
            " 997/1000 [============================>.] - ETA: 0s - loss: 2.0915 - accuracy: 0.4453\n",
            "Epoch 00026: val_loss improved from 2.19047 to 2.18462, saving model to model/Cifar-100-best.hdf5\n",
            "1000/1000 [==============================] - 12s 12ms/step - loss: 2.0911 - accuracy: 0.4454 - val_loss: 2.1846 - val_accuracy: 0.4379\n",
            "Epoch 27/300\n",
            " 996/1000 [============================>.] - ETA: 0s - loss: 2.0699 - accuracy: 0.4519\n",
            "Epoch 00027: val_loss improved from 2.18462 to 2.17667, saving model to model/Cifar-100-best.hdf5\n",
            "1000/1000 [==============================] - 12s 12ms/step - loss: 2.0699 - accuracy: 0.4518 - val_loss: 2.1767 - val_accuracy: 0.4444\n",
            "Epoch 28/300\n",
            " 996/1000 [============================>.] - ETA: 0s - loss: 2.0481 - accuracy: 0.4552\n",
            "Epoch 00028: val_loss improved from 2.17667 to 2.15811, saving model to model/Cifar-100-best.hdf5\n",
            "1000/1000 [==============================] - 12s 12ms/step - loss: 2.0474 - accuracy: 0.4552 - val_loss: 2.1581 - val_accuracy: 0.4477\n",
            "Epoch 29/300\n",
            " 997/1000 [============================>.] - ETA: 0s - loss: 2.0276 - accuracy: 0.4612\n",
            "Epoch 00029: val_loss did not improve from 2.15811\n",
            "1000/1000 [==============================] - 12s 12ms/step - loss: 2.0273 - accuracy: 0.4611 - val_loss: 2.1764 - val_accuracy: 0.4420\n",
            "Epoch 30/300\n",
            " 999/1000 [============================>.] - ETA: 0s - loss: 2.0009 - accuracy: 0.4658\n",
            "Epoch 00030: val_loss improved from 2.15811 to 2.14756, saving model to model/Cifar-100-best.hdf5\n",
            "1000/1000 [==============================] - 12s 12ms/step - loss: 2.0009 - accuracy: 0.4657 - val_loss: 2.1476 - val_accuracy: 0.4508\n",
            "Epoch 31/300\n",
            " 996/1000 [============================>.] - ETA: 0s - loss: 1.9720 - accuracy: 0.4708\n",
            "Epoch 00031: val_loss did not improve from 2.14756\n",
            "1000/1000 [==============================] - 12s 12ms/step - loss: 1.9726 - accuracy: 0.4707 - val_loss: 2.1489 - val_accuracy: 0.4513\n",
            "Epoch 32/300\n",
            " 997/1000 [============================>.] - ETA: 0s - loss: 1.9543 - accuracy: 0.4771\n",
            "Epoch 00032: val_loss improved from 2.14756 to 2.11698, saving model to model/Cifar-100-best.hdf5\n",
            "1000/1000 [==============================] - 12s 12ms/step - loss: 1.9538 - accuracy: 0.4772 - val_loss: 2.1170 - val_accuracy: 0.4550\n",
            "Epoch 33/300\n",
            " 996/1000 [============================>.] - ETA: 0s - loss: 1.9323 - accuracy: 0.4793\n",
            "Epoch 00033: val_loss improved from 2.11698 to 2.11665, saving model to model/Cifar-100-best.hdf5\n",
            "1000/1000 [==============================] - 12s 12ms/step - loss: 1.9326 - accuracy: 0.4791 - val_loss: 2.1167 - val_accuracy: 0.4565\n",
            "Epoch 34/300\n",
            " 998/1000 [============================>.] - ETA: 0s - loss: 1.9124 - accuracy: 0.4870\n",
            "Epoch 00034: val_loss improved from 2.11665 to 2.10443, saving model to model/Cifar-100-best.hdf5\n",
            "1000/1000 [==============================] - 12s 12ms/step - loss: 1.9122 - accuracy: 0.4871 - val_loss: 2.1044 - val_accuracy: 0.4595\n",
            "Epoch 35/300\n",
            " 999/1000 [============================>.] - ETA: 0s - loss: 1.8970 - accuracy: 0.4895\n",
            "Epoch 00035: val_loss improved from 2.10443 to 2.10006, saving model to model/Cifar-100-best.hdf5\n",
            "1000/1000 [==============================] - 12s 12ms/step - loss: 1.8970 - accuracy: 0.4894 - val_loss: 2.1001 - val_accuracy: 0.4627\n",
            "Epoch 36/300\n",
            " 996/1000 [============================>.] - ETA: 0s - loss: 1.8667 - accuracy: 0.4958\n",
            "Epoch 00036: val_loss improved from 2.10006 to 2.09750, saving model to model/Cifar-100-best.hdf5\n",
            "1000/1000 [==============================] - 12s 12ms/step - loss: 1.8669 - accuracy: 0.4957 - val_loss: 2.0975 - val_accuracy: 0.4594\n",
            "Epoch 37/300\n",
            " 999/1000 [============================>.] - ETA: 0s - loss: 1.8508 - accuracy: 0.4974\n",
            "Epoch 00037: val_loss improved from 2.09750 to 2.09146, saving model to model/Cifar-100-best.hdf5\n",
            "1000/1000 [==============================] - 12s 12ms/step - loss: 1.8505 - accuracy: 0.4973 - val_loss: 2.0915 - val_accuracy: 0.4619\n",
            "Epoch 38/300\n",
            "1000/1000 [==============================] - ETA: 0s - loss: 1.8305 - accuracy: 0.5033\n",
            "Epoch 00038: val_loss improved from 2.09146 to 2.08216, saving model to model/Cifar-100-best.hdf5\n",
            "1000/1000 [==============================] - 12s 12ms/step - loss: 1.8305 - accuracy: 0.5033 - val_loss: 2.0822 - val_accuracy: 0.4641\n",
            "Epoch 39/300\n",
            "1000/1000 [==============================] - ETA: 0s - loss: 1.8200 - accuracy: 0.5030\n",
            "Epoch 00039: val_loss improved from 2.08216 to 2.08123, saving model to model/Cifar-100-best.hdf5\n",
            "1000/1000 [==============================] - 12s 12ms/step - loss: 1.8200 - accuracy: 0.5030 - val_loss: 2.0812 - val_accuracy: 0.4639\n",
            "Epoch 40/300\n",
            "1000/1000 [==============================] - ETA: 0s - loss: 1.7988 - accuracy: 0.5077\n",
            "Epoch 00040: val_loss improved from 2.08123 to 2.07611, saving model to model/Cifar-100-best.hdf5\n",
            "1000/1000 [==============================] - 12s 12ms/step - loss: 1.7988 - accuracy: 0.5077 - val_loss: 2.0761 - val_accuracy: 0.4657\n",
            "Epoch 41/300\n",
            " 997/1000 [============================>.] - ETA: 0s - loss: 1.7757 - accuracy: 0.5149\n",
            "Epoch 00041: val_loss improved from 2.07611 to 2.07162, saving model to model/Cifar-100-best.hdf5\n",
            "1000/1000 [==============================] - 12s 12ms/step - loss: 1.7757 - accuracy: 0.5150 - val_loss: 2.0716 - val_accuracy: 0.4659\n",
            "Epoch 42/300\n",
            " 998/1000 [============================>.] - ETA: 0s - loss: 1.7533 - accuracy: 0.5222\n",
            "Epoch 00042: val_loss improved from 2.07162 to 2.05911, saving model to model/Cifar-100-best.hdf5\n",
            "1000/1000 [==============================] - 12s 12ms/step - loss: 1.7537 - accuracy: 0.5222 - val_loss: 2.0591 - val_accuracy: 0.4715\n",
            "Epoch 43/300\n",
            " 996/1000 [============================>.] - ETA: 0s - loss: 1.7407 - accuracy: 0.5232\n",
            "Epoch 00043: val_loss improved from 2.05911 to 2.05317, saving model to model/Cifar-100-best.hdf5\n",
            "1000/1000 [==============================] - 12s 12ms/step - loss: 1.7408 - accuracy: 0.5231 - val_loss: 2.0532 - val_accuracy: 0.4703\n",
            "Epoch 44/300\n",
            " 999/1000 [============================>.] - ETA: 0s - loss: 1.7154 - accuracy: 0.5278\n",
            "Epoch 00044: val_loss did not improve from 2.05317\n",
            "1000/1000 [==============================] - 12s 12ms/step - loss: 1.7153 - accuracy: 0.5278 - val_loss: 2.0624 - val_accuracy: 0.4708\n",
            "Epoch 45/300\n",
            " 999/1000 [============================>.] - ETA: 0s - loss: 1.6992 - accuracy: 0.5324\n",
            "Epoch 00045: val_loss did not improve from 2.05317\n",
            "1000/1000 [==============================] - 12s 12ms/step - loss: 1.6989 - accuracy: 0.5325 - val_loss: 2.0703 - val_accuracy: 0.4639\n",
            "Epoch 46/300\n",
            " 996/1000 [============================>.] - ETA: 0s - loss: 1.6903 - accuracy: 0.5340\n",
            "Epoch 00046: val_loss did not improve from 2.05317\n",
            "1000/1000 [==============================] - 12s 12ms/step - loss: 1.6897 - accuracy: 0.5341 - val_loss: 2.0545 - val_accuracy: 0.4717\n",
            "Epoch 47/300\n",
            " 999/1000 [============================>.] - ETA: 0s - loss: 1.6691 - accuracy: 0.5396\n",
            "Epoch 00047: val_loss improved from 2.05317 to 2.04847, saving model to model/Cifar-100-best.hdf5\n",
            "1000/1000 [==============================] - 12s 12ms/step - loss: 1.6693 - accuracy: 0.5396 - val_loss: 2.0485 - val_accuracy: 0.4751\n",
            "Epoch 48/300\n",
            " 997/1000 [============================>.] - ETA: 0s - loss: 1.6518 - accuracy: 0.5398\n",
            "Epoch 00048: val_loss improved from 2.04847 to 2.04409, saving model to model/Cifar-100-best.hdf5\n",
            "1000/1000 [==============================] - 12s 12ms/step - loss: 1.6520 - accuracy: 0.5398 - val_loss: 2.0441 - val_accuracy: 0.4768\n",
            "Epoch 49/300\n",
            " 997/1000 [============================>.] - ETA: 0s - loss: 1.6354 - accuracy: 0.5465\n",
            "Epoch 00049: val_loss improved from 2.04409 to 2.03557, saving model to model/Cifar-100-best.hdf5\n",
            "1000/1000 [==============================] - 12s 12ms/step - loss: 1.6360 - accuracy: 0.5465 - val_loss: 2.0356 - val_accuracy: 0.4760\n",
            "Epoch 50/300\n",
            "1000/1000 [==============================] - ETA: 0s - loss: 1.6200 - accuracy: 0.5494\n",
            "Epoch 00050: val_loss did not improve from 2.03557\n",
            "1000/1000 [==============================] - 12s 12ms/step - loss: 1.6200 - accuracy: 0.5494 - val_loss: 2.0432 - val_accuracy: 0.4760\n",
            "Epoch 51/300\n",
            " 997/1000 [============================>.] - ETA: 0s - loss: 1.5973 - accuracy: 0.5529\n",
            "Epoch 00051: val_loss improved from 2.03557 to 2.02602, saving model to model/Cifar-100-best.hdf5\n",
            "1000/1000 [==============================] - 12s 12ms/step - loss: 1.5979 - accuracy: 0.5528 - val_loss: 2.0260 - val_accuracy: 0.4783\n",
            "Epoch 52/300\n",
            " 999/1000 [============================>.] - ETA: 0s - loss: 1.5868 - accuracy: 0.5555\n",
            "Epoch 00052: val_loss did not improve from 2.02602\n",
            "1000/1000 [==============================] - 12s 12ms/step - loss: 1.5872 - accuracy: 0.5554 - val_loss: 2.0289 - val_accuracy: 0.4775\n",
            "Epoch 53/300\n",
            " 996/1000 [============================>.] - ETA: 0s - loss: 1.5751 - accuracy: 0.5589\n",
            "Epoch 00053: val_loss did not improve from 2.02602\n",
            "1000/1000 [==============================] - 12s 12ms/step - loss: 1.5748 - accuracy: 0.5590 - val_loss: 2.0358 - val_accuracy: 0.4783\n",
            "Epoch 54/300\n",
            " 997/1000 [============================>.] - ETA: 0s - loss: 1.5649 - accuracy: 0.5606\n",
            "Epoch 00054: val_loss improved from 2.02602 to 2.02061, saving model to model/Cifar-100-best.hdf5\n",
            "1000/1000 [==============================] - 12s 12ms/step - loss: 1.5646 - accuracy: 0.5607 - val_loss: 2.0206 - val_accuracy: 0.4834\n",
            "Epoch 55/300\n",
            " 997/1000 [============================>.] - ETA: 0s - loss: 1.5407 - accuracy: 0.5669\n",
            "Epoch 00055: val_loss did not improve from 2.02061\n",
            "1000/1000 [==============================] - 12s 12ms/step - loss: 1.5409 - accuracy: 0.5667 - val_loss: 2.0230 - val_accuracy: 0.4828\n",
            "Epoch 56/300\n",
            " 999/1000 [============================>.] - ETA: 0s - loss: 1.5235 - accuracy: 0.5716\n",
            "Epoch 00056: val_loss did not improve from 2.02061\n",
            "1000/1000 [==============================] - 12s 12ms/step - loss: 1.5236 - accuracy: 0.5715 - val_loss: 2.0223 - val_accuracy: 0.4821\n",
            "Epoch 57/300\n",
            " 999/1000 [============================>.] - ETA: 0s - loss: 1.5144 - accuracy: 0.5716\n",
            "Epoch 00057: val_loss improved from 2.02061 to 2.01095, saving model to model/Cifar-100-best.hdf5\n",
            "1000/1000 [==============================] - 12s 12ms/step - loss: 1.5147 - accuracy: 0.5715 - val_loss: 2.0109 - val_accuracy: 0.4814\n",
            "Epoch 58/300\n",
            " 999/1000 [============================>.] - ETA: 0s - loss: 1.4972 - accuracy: 0.5763\n",
            "Epoch 00058: val_loss did not improve from 2.01095\n",
            "1000/1000 [==============================] - 11s 11ms/step - loss: 1.4972 - accuracy: 0.5763 - val_loss: 2.0449 - val_accuracy: 0.4765\n",
            "Epoch 59/300\n",
            "1000/1000 [==============================] - ETA: 0s - loss: 1.4887 - accuracy: 0.5793\n",
            "Epoch 00059: val_loss improved from 2.01095 to 2.00843, saving model to model/Cifar-100-best.hdf5\n",
            "1000/1000 [==============================] - 12s 12ms/step - loss: 1.4887 - accuracy: 0.5793 - val_loss: 2.0084 - val_accuracy: 0.4866\n",
            "Epoch 60/300\n",
            " 999/1000 [============================>.] - ETA: 0s - loss: 1.4722 - accuracy: 0.5820\n",
            "Epoch 00060: val_loss did not improve from 2.00843\n",
            "1000/1000 [==============================] - 12s 12ms/step - loss: 1.4723 - accuracy: 0.5819 - val_loss: 2.0271 - val_accuracy: 0.4821\n",
            "Epoch 61/300\n",
            " 999/1000 [============================>.] - ETA: 0s - loss: 1.4652 - accuracy: 0.5846\n",
            "Epoch 00061: val_loss did not improve from 2.00843\n",
            "1000/1000 [==============================] - 11s 11ms/step - loss: 1.4654 - accuracy: 0.5846 - val_loss: 2.0128 - val_accuracy: 0.4855\n",
            "Epoch 62/300\n",
            " 997/1000 [============================>.] - ETA: 0s - loss: 1.4420 - accuracy: 0.5886\n",
            "Epoch 00062: val_loss did not improve from 2.00843\n",
            "1000/1000 [==============================] - 11s 11ms/step - loss: 1.4421 - accuracy: 0.5885 - val_loss: 2.0089 - val_accuracy: 0.4874\n",
            "Epoch 63/300\n",
            " 998/1000 [============================>.] - ETA: 0s - loss: 1.4238 - accuracy: 0.5921\n",
            "Epoch 00063: val_loss did not improve from 2.00843\n",
            "1000/1000 [==============================] - 11s 11ms/step - loss: 1.4242 - accuracy: 0.5921 - val_loss: 2.0225 - val_accuracy: 0.4828\n",
            "Epoch 64/300\n",
            " 998/1000 [============================>.] - ETA: 0s - loss: 1.4182 - accuracy: 0.5948\n",
            "Epoch 00064: val_loss did not improve from 2.00843\n",
            "1000/1000 [==============================] - 12s 12ms/step - loss: 1.4182 - accuracy: 0.5949 - val_loss: 2.0303 - val_accuracy: 0.4814\n",
            "Epoch 65/300\n",
            " 999/1000 [============================>.] - ETA: 0s - loss: 1.4024 - accuracy: 0.5978\n",
            "Epoch 00065: val_loss did not improve from 2.00843\n",
            "1000/1000 [==============================] - 11s 11ms/step - loss: 1.4019 - accuracy: 0.5980 - val_loss: 2.0179 - val_accuracy: 0.4851\n",
            "Epoch 66/300\n",
            " 997/1000 [============================>.] - ETA: 0s - loss: 1.3837 - accuracy: 0.6032\n",
            "Epoch 00066: val_loss did not improve from 2.00843\n",
            "1000/1000 [==============================] - 11s 11ms/step - loss: 1.3840 - accuracy: 0.6032 - val_loss: 2.0252 - val_accuracy: 0.4861\n",
            "Epoch 67/300\n",
            " 996/1000 [============================>.] - ETA: 0s - loss: 1.3813 - accuracy: 0.6035\n",
            "Epoch 00067: val_loss did not improve from 2.00843\n",
            "1000/1000 [==============================] - 11s 11ms/step - loss: 1.3810 - accuracy: 0.6036 - val_loss: 2.0164 - val_accuracy: 0.4884\n",
            "Epoch 68/300\n",
            "1000/1000 [==============================] - ETA: 0s - loss: 1.3633 - accuracy: 0.6069\n",
            "Epoch 00068: val_loss did not improve from 2.00843\n",
            "1000/1000 [==============================] - 11s 11ms/step - loss: 1.3633 - accuracy: 0.6069 - val_loss: 2.0186 - val_accuracy: 0.4875\n",
            "Epoch 69/300\n",
            " 999/1000 [============================>.] - ETA: 0s - loss: 1.3555 - accuracy: 0.6090\n",
            "Epoch 00069: val_loss did not improve from 2.00843\n",
            "1000/1000 [==============================] - 11s 11ms/step - loss: 1.3555 - accuracy: 0.6091 - val_loss: 2.0158 - val_accuracy: 0.4848\n",
            "Epoch 70/300\n",
            " 999/1000 [============================>.] - ETA: 0s - loss: 1.3481 - accuracy: 0.6124\n",
            "Epoch 00070: val_loss did not improve from 2.00843\n",
            "1000/1000 [==============================] - 11s 11ms/step - loss: 1.3482 - accuracy: 0.6123 - val_loss: 2.0304 - val_accuracy: 0.4836\n",
            "Epoch 71/300\n",
            "1000/1000 [==============================] - ETA: 0s - loss: 1.3320 - accuracy: 0.6132\n",
            "Epoch 00071: val_loss did not improve from 2.00843\n",
            "1000/1000 [==============================] - 11s 11ms/step - loss: 1.3320 - accuracy: 0.6132 - val_loss: 2.0276 - val_accuracy: 0.4881\n",
            "Epoch 72/300\n",
            " 999/1000 [============================>.] - ETA: 0s - loss: 1.3127 - accuracy: 0.6214\n",
            "Epoch 00072: val_loss did not improve from 2.00843\n",
            "1000/1000 [==============================] - 11s 11ms/step - loss: 1.3126 - accuracy: 0.6213 - val_loss: 2.0162 - val_accuracy: 0.4858\n",
            "Epoch 73/300\n",
            "1000/1000 [==============================] - ETA: 0s - loss: 1.3161 - accuracy: 0.6184\n",
            "Epoch 00073: val_loss did not improve from 2.00843\n",
            "1000/1000 [==============================] - 11s 11ms/step - loss: 1.3161 - accuracy: 0.6184 - val_loss: 2.0156 - val_accuracy: 0.4883\n",
            "Epoch 74/300\n",
            " 997/1000 [============================>.] - ETA: 0s - loss: 1.2942 - accuracy: 0.6248\n",
            "Epoch 00074: val_loss did not improve from 2.00843\n",
            "1000/1000 [==============================] - 11s 11ms/step - loss: 1.2941 - accuracy: 0.6249 - val_loss: 2.0360 - val_accuracy: 0.4867\n",
            "Epoch 75/300\n",
            " 997/1000 [============================>.] - ETA: 0s - loss: 1.2932 - accuracy: 0.6252\n",
            "Epoch 00075: val_loss did not improve from 2.00843\n",
            "1000/1000 [==============================] - 11s 11ms/step - loss: 1.2933 - accuracy: 0.6250 - val_loss: 2.0166 - val_accuracy: 0.4885\n",
            "Epoch 76/300\n",
            " 999/1000 [============================>.] - ETA: 0s - loss: 1.2784 - accuracy: 0.6263\n",
            "Epoch 00076: val_loss did not improve from 2.00843\n",
            "1000/1000 [==============================] - 11s 11ms/step - loss: 1.2784 - accuracy: 0.6263 - val_loss: 2.0252 - val_accuracy: 0.4880\n",
            "Epoch 77/300\n",
            " 999/1000 [============================>.] - ETA: 0s - loss: 1.2583 - accuracy: 0.6309\n",
            "Epoch 00077: val_loss did not improve from 2.00843\n",
            "1000/1000 [==============================] - 11s 11ms/step - loss: 1.2582 - accuracy: 0.6310 - val_loss: 2.0320 - val_accuracy: 0.4885\n",
            "Epoch 78/300\n",
            " 999/1000 [============================>.] - ETA: 0s - loss: 1.2528 - accuracy: 0.6318\n",
            "Epoch 00078: val_loss did not improve from 2.00843\n",
            "1000/1000 [==============================] - 11s 11ms/step - loss: 1.2531 - accuracy: 0.6316 - val_loss: 2.0254 - val_accuracy: 0.4907\n",
            "Epoch 79/300\n",
            "1000/1000 [==============================] - ETA: 0s - loss: 1.2366 - accuracy: 0.6380\n",
            "Epoch 00079: val_loss did not improve from 2.00843\n",
            "1000/1000 [==============================] - 11s 11ms/step - loss: 1.2366 - accuracy: 0.6380 - val_loss: 2.0507 - val_accuracy: 0.4829\n"
          ],
          "name": "stdout"
        }
      ]
    },
    {
      "cell_type": "code",
      "metadata": {
        "id": "x2e-Xtb2xQpg",
        "colab_type": "code",
        "colab": {}
      },
      "source": [
        "from tensorflow.keras.models import load_model\n",
        "del model\n",
        "model = load_model('model/Cifar-100-best.hdf5')"
      ],
      "execution_count": 19,
      "outputs": []
    },
    {
      "cell_type": "markdown",
      "metadata": {
        "id": "rSWoZIjjq0fT",
        "colab_type": "text"
      },
      "source": [
        "#### 모델 평가하기"
      ]
    },
    {
      "cell_type": "code",
      "metadata": {
        "id": "7kf82y4Tqz7I",
        "colab_type": "code",
        "colab": {
          "base_uri": "https://localhost:8080/",
          "height": 68
        },
        "outputId": "8a6fc386-c633-4303-fd86-72172a3fc42a"
      },
      "source": [
        "print(\"\\n Test Accuracy: %.4f\" % (model.evaluate(X_test, Y_test)[1]))"
      ],
      "execution_count": 20,
      "outputs": [
        {
          "output_type": "stream",
          "text": [
            "313/313 [==============================] - 2s 5ms/step - loss: 2.0084 - accuracy: 0.4866\n",
            "\n",
            " Test Accuracy: 0.4866\n"
          ],
          "name": "stdout"
        }
      ]
    },
    {
      "cell_type": "markdown",
      "metadata": {
        "id": "U3-l6LrVr7_t",
        "colab_type": "text"
      },
      "source": [
        "#### 그래프 그리기"
      ]
    },
    {
      "cell_type": "code",
      "metadata": {
        "id": "nQu76ZSVruEb",
        "colab_type": "code",
        "colab": {}
      },
      "source": [
        "# 테스트셋\n",
        "y_vloss = history.history['val_loss']\n",
        "y_vacc = history.history['val_accuracy']\n",
        "# 학습셋\n",
        "y_loss = history.history['loss']\n",
        "y_acc = history.history['accuracy']"
      ],
      "execution_count": 24,
      "outputs": []
    },
    {
      "cell_type": "code",
      "metadata": {
        "id": "7fIvJ0Ufr_Dc",
        "colab_type": "code",
        "colab": {
          "base_uri": "https://localhost:8080/",
          "height": 606
        },
        "outputId": "021a4e5f-b6f9-49f2-f301-ba370b90697a"
      },
      "source": [
        "x_len = np.arange(1, len(y_loss)+1)\n",
        "fig, ax0 = plt.subplots(figsize=(12,10))\n",
        "ax1 = ax0.twinx()\n",
        "ax0.plot(x_len, y_loss, c=\"blue\", label='Trainset_loss')\n",
        "ax0.plot(x_len, y_vloss, c=\"red\", label='Testset_loss')\n",
        "ax0.set_ylabel('loss')\n",
        "ax1.plot(x_len, y_acc, c=\"darkgreen\", label='Trainset_acc')\n",
        "ax1.plot(x_len, y_vacc, c=\"magenta\", label='Testset_acc')\n",
        "ax1.set_ylabel('accuracy')\n",
        "ax0.set_xlabel('epoch')\n",
        "ax0.legend(loc='upper center')\n",
        "ax1.legend(loc='lower center')\n",
        "plt.show()"
      ],
      "execution_count": 25,
      "outputs": [
        {
          "output_type": "display_data",
          "data": {
            "image/png": "[encoded data removed]",
            "text/plain": [
              "<Figure size 864x720 with 2 Axes>"
            ]
          },
          "metadata": {
            "tags": [],
            "needs_background": "light"
          }
        }
      ]
    },
    {
      "cell_type": "markdown",
      "metadata": {
        "id": "rHPyvvkdsPfP",
        "colab_type": "text"
      },
      "source": [
        "#### 모델 저장하기"
      ]
    },
    {
      "cell_type": "code",
      "metadata": {
        "id": "0vhnQyDKsZJp",
        "colab_type": "code",
        "colab": {
          "base_uri": "https://localhost:8080/",
          "height": 51
        },
        "outputId": "4fb2a23d-06cf-49d2-fd07-9998263a0cbb"
      },
      "source": [
        "!ls -l model"
      ],
      "execution_count": 26,
      "outputs": [
        {
          "output_type": "stream",
          "text": [
            "total 14052\n",
            "-rw-r--r-- 1 root root 14387192 Jul  7 05:50 Cifar-100-best.hdf5\n"
          ],
          "name": "stdout"
        }
      ]
    },
    {
      "cell_type": "code",
      "metadata": {
        "id": "HoUaLpL444Jh",
        "colab_type": "code",
        "colab": {}
      },
      "source": [
        ""
      ],
      "execution_count": null,
      "outputs": []
    }
  ]
}